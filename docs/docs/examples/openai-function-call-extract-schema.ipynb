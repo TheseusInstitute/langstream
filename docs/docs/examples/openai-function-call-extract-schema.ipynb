{
 "cells": [
  {
   "attachments": {},
   "cell_type": "markdown",
   "id": "6ec042b3",
   "metadata": {},
   "source": [
    "---\n",
    "sidebar_position: 3\n",
    "---\n",
    "\n",
    "# Extracting Schema for OpenAI Functions\n",
    "\n",
    "In the code example below, we use the [openai_function_call](https://github.com/jxnl/openai_function_call) library to extract a schema to be used on [`OpenAIChatStream`](pathname:///reference/langstream/contrib/index.html#langstream.contrib.OpenAIChatStream) from a good old python function, so you don't need to write the schema yourself.\n",
    "\n",
    "First you need to install the library:\n",
    "\n",
    "```bash\n",
    "pip install openai-function-call\n",
    "```\n",
    "\n",
    "Then simply annotate your function using `@openai_function` and you will be able to get a `openai_schema` out of it:"
   ]
  },
  {
   "cell_type": "code",
   "execution_count": 12,
   "id": "2d41fd5d",
   "metadata": {},
   "outputs": [
    {
     "data": {
      "text/plain": [
       "{'name': 'get_current_weather',\n",
       " 'description': '\\n    Gets the current weather in a given location, use this function for any questions related to the weather\\n\\n    Parameters\\n    ----------\\n    location\\n        The city to get the weather, e.g. San Francisco. Guess the location from user messages\\n\\n    format\\n        A string with the full content of what the given role said\\n    ',\n",
       " 'parameters': {'properties': {'location': {'type': 'string'},\n",
       "   'format': {'default': 'celsius',\n",
       "    'enum': ['celsius', 'fahrenheit'],\n",
       "    'type': 'string'}},\n",
       "  'required': ['format', 'location'],\n",
       "  'type': 'object'}}"
      ]
     },
     "execution_count": 12,
     "metadata": {},
     "output_type": "execute_result"
    }
   ],
   "source": [
    "from typing import Literal, TypedDict\n",
    "\n",
    "from openai_function_call import openai_function\n",
    "\n",
    "\n",
    "class WeatherReturn(TypedDict):\n",
    "    location: str\n",
    "    forecast: str\n",
    "    temperature: str\n",
    "\n",
    "# highlight-next-line\n",
    "@openai_function\n",
    "def get_current_weather(\n",
    "    location: str, format: Literal[\"celsius\", \"fahrenheit\"] = \"celsius\"\n",
    ") -> WeatherReturn:\n",
    "    \"\"\"\n",
    "    Gets the current weather in a given location, use this function for any questions related to the weather\n",
    "\n",
    "    Parameters\n",
    "    ----------\n",
    "    location\n",
    "        The city to get the weather, e.g. San Francisco. Guess the location from user messages\n",
    "\n",
    "    format\n",
    "        A string with the full content of what the given role said\n",
    "    \"\"\"\n",
    "\n",
    "    return WeatherReturn(\n",
    "        location=location,\n",
    "        forecast=\"sunny\",\n",
    "        temperature=\"25 C\" if format == \"celsius\" else \"77 F\",\n",
    "    )\n",
    "\n",
    "\n",
    "get_current_weather.openai_schema"
   ]
  },
  {
   "attachments": {},
   "cell_type": "markdown",
   "id": "012951b1",
   "metadata": {},
   "source": [
    "We can then use this schema directly on our stream:"
   ]
  },
  {
   "cell_type": "code",
   "execution_count": 13,
   "id": "e53bb0c8",
   "metadata": {},
   "outputs": [
    {
     "data": {
      "text/plain": [
       "[{'location': 'Amsterdam', 'forecast': 'sunny', 'temperature': '25 C'}]"
      ]
     },
     "execution_count": 13,
     "metadata": {},
     "output_type": "execute_result"
    }
   ],
   "source": [
    "import json\n",
    "from typing import Union\n",
    "\n",
    "from langstream import Stream, collect_final_output\n",
    "from langstream.contrib import OpenAIChatStream, OpenAIChatDelta, OpenAIChatMessage\n",
    "\n",
    "stream: Stream[str, Union[OpenAIChatDelta, WeatherReturn]] = OpenAIChatStream[\n",
    "    str, OpenAIChatDelta\n",
    "](\n",
    "    \"WeatherStream\",\n",
    "    lambda user_input: [\n",
    "        OpenAIChatMessage(role=\"user\", content=user_input),\n",
    "    ],\n",
    "    model=\"gpt-3.5-turbo\",\n",
    "    # highlight-next-line\n",
    "    functions=[get_current_weather.openai_schema],\n",
    "    temperature=0,\n",
    ").map(\n",
    "    lambda delta: get_current_weather(**json.loads(delta.content))\n",
    "    if delta.role == \"function\" and delta.name == \"get_current_weather\"\n",
    "    else delta\n",
    ")\n",
    "\n",
    "await collect_final_output(\n",
    "    stream(\n",
    "        \"I'm in my appartment in Amsterdam, thinking... should I take an umbrella for my pet chicken?\"\n",
    "    )\n",
    ")"
   ]
  },
  {
   "attachments": {},
   "cell_type": "markdown",
   "id": "862136fe",
   "metadata": {},
   "source": [
    "That's it, if you have any questions about this example, [join our discord community](https://discord.gg/48ZM5KkKgw) and we can help you out.\n"
   ]
  },
  {
   "cell_type": "code",
   "execution_count": null,
   "id": "8e82d862",
   "metadata": {},
   "outputs": [],
   "source": []
  }
 ],
 "metadata": {
  "kernelspec": {
   "display_name": "Python 3 (ipykernel)",
   "language": "python",
   "name": "python3"
  },
  "language_info": {
   "codemirror_mode": {
    "name": "ipython",
    "version": 3
   },
   "file_extension": ".py",
   "mimetype": "text/x-python",
   "name": "python",
   "nbconvert_exporter": "python",
   "pygments_lexer": "ipython3",
   "version": "3.9.6"
  }
 },
 "nbformat": 4,
 "nbformat_minor": 5
}
